{
 "cells": [
  {
   "cell_type": "code",
   "execution_count": 33,
   "metadata": {
    "collapsed": true
   },
   "outputs": [],
   "source": [
    "%matplotlib inline\n",
    "# from __future__ import print_function\n",
    "\n",
    "import matplotlib\n",
    "import thinkstats2\n",
    "import thinkplot\n",
    "\n",
    "import random\n",
    "import numpy as np\n",
    "\n",
    "from estimation import RMSE, MeanError\n"
   ]
  },
  {
   "cell_type": "code",
   "execution_count": 38,
   "metadata": {
    "collapsed": false,
    "scrolled": true
   },
   "outputs": [
    {
     "name": "stdout",
     "output_type": "stream",
     "text": [
      "standard error 0.803544054432\n",
      "confidence interval (1.2923210693668896, 3.6522405278257573)\n",
      "standard error 0.210487065031\n",
      "confidence interval (1.7013891783850541, 2.3700621224306198)\n",
      "standard error 0.0606387569624\n",
      "confidence interval (1.9019669254578033, 2.100334282605079)\n"
     ]
    },
    {
     "data": {
      "text/plain": [
       "<Container object of 3 artists>"
      ]
     },
     "execution_count": 38,
     "metadata": {},
     "output_type": "execute_result"
    },
    {
     "data": {
      "image/png": "[encoded data removed]",
      "text/plain": [
       "<matplotlib.figure.Figure at 0x1096fb490>"
      ]
     },
     "metadata": {},
     "output_type": "display_data"
    }
   ],
   "source": [
    "n=[10,100,1000]\n",
    "m=1000\n",
    "lam=2\n",
    "\n",
    "standard_errors={}\n",
    "\n",
    "for x in n:\n",
    "    estimates = []\n",
    "    for i in range(m):\n",
    "        sample = np.random.exponential(1.0/lam, x)\n",
    "        lamhat = 1.0 / np.mean(sample)\n",
    "        estimates.append(lamhat)\n",
    "\n",
    "    stderr = RMSE(estimates, lam)\n",
    "    standard_errors[x]=stderr\n",
    "    print('standard error', stderr)\n",
    "    \n",
    "    cdf = thinkstats2.Cdf(estimates)\n",
    "    ci = cdf.Percentile(5), cdf.Percentile(95)\n",
    "    print('confidence interval', ci)\n",
    "    \n",
    "standard_errors.items()\n",
    "\n",
    "# thinkplot.Bar(standard_errors.keys(),standard_errors.values())\n",
    "# # standard_errors.keys()\n",
    "# # standard_errors.values()\n",
    "# thinkplot.Show()\n",
    "\n",
    "matplotlib.pyplot.xlabel('Size of N')\n",
    "matplotlib.pyplot.ylabel('Standard Error')\n",
    "matplotlib.pyplot.bar(standard_errors.keys(),standard_errors.values(),width=20)\n"
   ]
  },
  {
   "cell_type": "code",
   "execution_count": 27,
   "metadata": {
    "collapsed": false
   },
   "outputs": [],
   "source": [
    "list=[1,2]"
   ]
  }
 ],
 "metadata": {
  "kernelspec": {
   "display_name": "Python 2",
   "language": "python",
   "name": "python2"
  },
  "language_info": {
   "codemirror_mode": {
    "name": "ipython",
    "version": 2
   },
   "file_extension": ".py",
   "mimetype": "text/x-python",
   "name": "python",
   "nbconvert_exporter": "python",
   "pygments_lexer": "ipython2",
   "version": "2.7.10"
  }
 },
 "nbformat": 4,
 "nbformat_minor": 0
}
